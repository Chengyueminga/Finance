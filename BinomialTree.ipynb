{
 "cells": [
  {
   "cell_type": "code",
   "execution_count": 1,
   "metadata": {},
   "outputs": [],
   "source": [
    "import numpy as np"
   ]
  },
  {
   "cell_type": "code",
   "execution_count": 78,
   "metadata": {},
   "outputs": [],
   "source": [
    "def binomial_model(N, S0, u, r, k, t):\n",
    "    \"N = number of binomial iteration\"\n",
    "    \"S0 = initial stock price\"\n",
    "    \"u = factor change of updates\"\n",
    "    \"r = annualized risk-free rate\"\n",
    "    \"k = strike price\"\n",
    "    \"t = time period for each step\"\n",
    "    d = 2 - u\n",
    "    p = (np.exp(r * t) - d)/(u - d)\n",
    "    q = 1 - p\n",
    "    ##Make stock price tree\n",
    "    ##get a matrix and then put the prices into the matrix\n",
    "    stock = np.zeros([N + 1, N + 1])\n",
    "    for i in range(N + 1):\n",
    "        for j in range(i + 1):\n",
    "            stock[j, i] = S0 * (u ** (i - j)) * (d ** j)\n",
    "    ##Generate option prices \n",
    "    options = np.zeros([N + 1,N + 1])\n",
    "    options[:, N] = np.maximum(np.zeros(N + 1), (stock[:, N] - k))\n",
    "    for i in range(N -1, -1, -1):\n",
    "        for j in range(0, i + 1):\n",
    "            options[j, i] = np.exp(- r * t) * (p * options[ j, i + 1] + q * options[j + 1, i + 1])\n",
    "    return stock"
   ]
  },
  {
   "cell_type": "code",
   "execution_count": 79,
   "metadata": {},
   "outputs": [
    {
     "data": {
      "text/plain": [
       "array([[20. , 22. , 24.2],\n",
       "       [ 0. , 18. , 19.8],\n",
       "       [ 0. ,  0. , 16.2]])"
      ]
     },
     "execution_count": 79,
     "metadata": {},
     "output_type": "execute_result"
    }
   ],
   "source": [
    "binomial_model(2,20,1.1,0.04, 21, 0.25)"
   ]
  }
 ],
 "metadata": {
  "kernelspec": {
   "display_name": "Python 3",
   "language": "python",
   "name": "python3"
  },
  "language_info": {
   "codemirror_mode": {
    "name": "ipython",
    "version": 3
   },
   "file_extension": ".py",
   "mimetype": "text/x-python",
   "name": "python",
   "nbconvert_exporter": "python",
   "pygments_lexer": "ipython3",
   "version": "3.7.1"
  }
 },
 "nbformat": 4,
 "nbformat_minor": 2
}
